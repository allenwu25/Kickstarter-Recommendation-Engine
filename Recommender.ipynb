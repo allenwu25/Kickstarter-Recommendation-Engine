{
 "cells": [
  {
   "cell_type": "markdown",
   "metadata": {},
   "source": [
    "## Based on the name of an existing kickstarter project, 5 of the most similar projects will be recommended to the user."
   ]
  },
  {
   "cell_type": "code",
   "execution_count": 1,
   "metadata": {},
   "outputs": [],
   "source": [
    "import pandas as pd\n",
    "import json\n",
    "from rake_nltk import Rake\n",
    "from sklearn.feature_extraction.text import CountVectorizer\n",
    "from sklearn.metrics.pairwise import cosine_similarity\n",
    "pd.set_option('display.max_colwidth', -1)"
   ]
  },
  {
   "cell_type": "markdown",
   "metadata": {},
   "source": [
    "#### Read in csv file from external Github url, containing large list of kickstarter projects"
   ]
  },
  {
   "cell_type": "code",
   "execution_count": 3,
   "metadata": {},
   "outputs": [],
   "source": [
    "dfnew = pd.read_csv('https://raw.githubusercontent.com/L-Lewis/Kickstarter-success-machine-learning/master/data/Kickstarter000.csv')"
   ]
  },
  {
   "cell_type": "markdown",
   "metadata": {},
   "source": [
    "#### Combine multiple features which provide valuable information on a project into one string per project. Use the rake NLP library to extract keywords from the blurb summary phrase"
   ]
  },
  {
   "cell_type": "code",
   "execution_count": 5,
   "metadata": {},
   "outputs": [],
   "source": [
    "def combine_features(row):\n",
    "    category = json.loads(row['category'])\n",
    "    r = Rake()\n",
    "    r.extract_keywords_from_text(row['blurb'])\n",
    "    arr = r.get_ranked_phrases()\n",
    "    return category['name']+\" \"+category['slug']+\" \"+ \" \".join(arr)\n",
    "\n",
    "dfnew[\"combinedfeatures\"] = dfnew.apply(combine_features, axis=1)"
   ]
  },
  {
   "cell_type": "markdown",
   "metadata": {},
   "source": [
    "#### Create functions to get a kickstarter project's name given its index, and vice versa"
   ]
  },
  {
   "cell_type": "code",
   "execution_count": 30,
   "metadata": {},
   "outputs": [],
   "source": [
    "def get_title_from_index(index):\n",
    "    return dfnew[dfnew.index == index]['name'].apply(str)\n",
    "\n",
    "def get_index_from_title(title):\n",
    "    return dfnew[dfnew['name']==title].index[0]"
   ]
  },
  {
   "cell_type": "markdown",
   "metadata": {},
   "source": [
    "#### Use the CountVectorizer model from scikit-learn to handle similarity of combined feature word data between kickstarter projects. Afterwards, use the cosine similarity matrix to determine which records are most similar to the chosen record - values closest to one indicate the least amount of variance within the two projects' combined features."
   ]
  },
  {
   "cell_type": "code",
   "execution_count": 33,
   "metadata": {},
   "outputs": [
    {
     "name": "stdout",
     "output_type": "stream",
     "text": [
      "0.51\n",
      "1051    Moon Debris LP\n",
      "Name: name, dtype: object\n",
      "\n",
      "\n",
      "0.49\n",
      "515    Click here to help KHP finish their first Full Length album\n",
      "Name: name, dtype: object\n",
      "\n",
      "\n",
      "0.48\n",
      "331    Railway Glass First Studio Album\n",
      "Name: name, dtype: object\n",
      "\n",
      "\n",
      "0.45\n",
      "127    The Sons of Kirk: SciFi-Themed Rock Album and Music Video!\n",
      "Name: name, dtype: object\n",
      "\n",
      "\n",
      "0.45\n",
      "344    L'Amourita\n",
      "Name: name, dtype: object\n",
      "\n",
      "\n"
     ]
    }
   ],
   "source": [
    "cv = CountVectorizer()\n",
    "count_matrix = cv.fit_transform(dfnew[\"combinedfeatures\"])\n",
    "cosine_sim = cosine_similarity(count_matrix)\n",
    "\n",
    "userlikes = \"New Final Round Album\"\n",
    "index = get_index_from_title(userlikes)\n",
    "similar_projects = list(enumerate(cosine_sim[index]))\n",
    "sortedprojects = sorted(similar_projects, key=lambda x: x[1], reverse=True)\n",
    "\n",
    "dftest = pd.DataFrame()\n",
    "\n",
    "for i in range(1,6):\n",
    "    index = sortedprojects[i][0]\n",
    "    print(round(sortedprojects[i][1],2))\n",
    "    print(get_title_from_index(index))\n",
    "    print('\\n')\n",
    "    "
   ]
  },
  {
   "cell_type": "code",
   "execution_count": null,
   "metadata": {},
   "outputs": [],
   "source": []
  }
 ],
 "metadata": {
  "kernelspec": {
   "display_name": "Python 3",
   "language": "python",
   "name": "python3"
  },
  "language_info": {
   "codemirror_mode": {
    "name": "ipython",
    "version": 3
   },
   "file_extension": ".py",
   "mimetype": "text/x-python",
   "name": "python",
   "nbconvert_exporter": "python",
   "pygments_lexer": "ipython3",
   "version": "3.7.3"
  }
 },
 "nbformat": 4,
 "nbformat_minor": 2
}
